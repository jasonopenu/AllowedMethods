{
 "cells": [
  {
   "cell_type": "markdown",
   "id": "f94e542a",
   "metadata": {},
   "source": [
    "### TLDR\n",
    "\n",
    "Be careful using methods - the *only* methods you are allowed to use are listed below.\n",
    "\n",
    "The `allowed` tool does not always spot the use of forbidden methods - especially (but not exclusively) if you are using notebooks on Windows.\n",
    "\n",
    "No string methods *at all* are allowed."
   ]
  },
  {
   "cell_type": "markdown",
   "id": "45222d70",
   "metadata": {},
   "source": [
    "# What Methods are Allowed\n",
    "\n",
    "\n",
    "Only a small subset of methods on built in types are allowed to be usd in TMAs.\n",
    "\n",
    "A method is anything of the form:\n",
    "\n",
    "```python\n",
    "object.method()\n",
    "```\n",
    "\n",
    "so, for example, all of these are examples of method calls on Python built in types:\n",
    "\n",
    "```python\n",
    "my_list = [1,2,3]\n",
    "\n",
    "my_list.append(5) # using lists append method\n",
    "\n",
    "txt = \"abc\"\n",
    "print(txt.upper()) # using strings upper method\n",
    "```\n",
    "\n",
    "Unfortunately the `allowed` tool isn't perfect when checking for the use of methods that are not allowed - particularly if you are running your Jupyter notebook on Windows (but before Mac and Linux people get carried away - it's not perfect there either!)."
   ]
  },
  {
   "cell_type": "markdown",
   "id": "b6856f5f",
   "metadata": {},
   "source": [
    "## Allowed Methods\n",
    "\n",
    "The good news (in a sense!) is that you are only allowed to use a small number of methods.  The only methods that you are allowed to use are the ones below.  \n",
    "\n",
    "## List\n",
    "\n",
    "- insert\n",
    "- append\n",
    "- pop\n",
    "- sort\n",
    "\n",
    "## Dict\n",
    "\n",
    "- items\n",
    "- pop\n",
    "\n",
    "## Set\n",
    "\n",
    "- add\n",
    "- discard\n",
    "- union\n",
    "- intersection\n",
    "- difference\n",
    "- pop\n",
    "\n",
    "\n",
    "Note especially that **no string methods** are allowed.\n"
   ]
  },
  {
   "cell_type": "markdown",
   "id": "091d1924",
   "metadata": {},
   "source": [
    "## Examples\n",
    "\n",
    "First, we need to set up the *allowed* stuff.\n",
    "\n",
    "I have added a line here that prints the platform that is running Jupyter - this stuff does behave differently if you are using Windows."
   ]
  },
  {
   "cell_type": "code",
   "execution_count": 40,
   "id": "98f44cf0",
   "metadata": {},
   "outputs": [
    {
     "name": "stdout",
     "output_type": "stream",
     "text": [
      "The algoesup.magics extension is already loaded. To reload it, use:\n",
      "  %reload_ext algoesup.magics\n",
      "Linux\n",
      "allowed was activated\n"
     ]
    }
   ],
   "source": [
    "import platform  # allowed\n",
    "\n",
    "%load_ext algoesup.magics\n",
    "\n",
    "print(platform.system())\n",
    "\n",
    "if platform.system() in ('Linux', 'Darwin'):\n",
    "    %allowed on --config m269-24j --unit 27 --method\n",
    "else:\n",
    "    %allowed on --config m269-24j --unit 27\n"
   ]
  },
  {
   "cell_type": "markdown",
   "id": "81de8399",
   "metadata": {},
   "source": [
    "## Using Methods that are allowed\n",
    "\n",
    "All of the following code is allowed - as you can see, allowed produces no messages."
   ]
  },
  {
   "cell_type": "code",
   "execution_count": 6,
   "id": "d92f2610",
   "metadata": {},
   "outputs": [
    {
     "name": "stdout",
     "output_type": "stream",
     "text": [
      "[2, 3, 4, 5]\n"
     ]
    }
   ],
   "source": [
    "## List Tests\n",
    "\n",
    "my_list = [1,2,3]\n",
    "\n",
    "my_list.insert(1,4)\n",
    "my_list.append(5)\n",
    "my_list.pop(0)\n",
    "my_list.sort()\n",
    "\n",
    "print(my_list)"
   ]
  },
  {
   "cell_type": "code",
   "execution_count": 7,
   "id": "19d8368f",
   "metadata": {},
   "outputs": [
    {
     "name": "stdout",
     "output_type": "stream",
     "text": [
      "dict_items([(1, 'A'), (2, 'B')])\n",
      "A\n"
     ]
    }
   ],
   "source": [
    "## Dict Tests\n",
    "\n",
    "my_dict = {1 : 'A', 2 : 'B'}\n",
    "\n",
    "print(my_dict.items())\n",
    "print(my_dict.pop(1))"
   ]
  },
  {
   "cell_type": "code",
   "execution_count": 8,
   "id": "28ec8fa8",
   "metadata": {
    "scrolled": true
   },
   "outputs": [
    {
     "name": "stdout",
     "output_type": "stream",
     "text": [
      "{1, 2, 3, 4, 5}\n",
      "{3}\n",
      "{1, 2}\n"
     ]
    }
   ],
   "source": [
    "## Set\n",
    "\n",
    "my_set = {1,2,3}\n",
    "\n",
    "my_set.add(4)\n",
    "my_set.discard(4)\n",
    "my_set.pop()\n",
    "\n",
    "my_set = {1,2,3}\n",
    "\n",
    "print(my_set.union({3,4,5}))\n",
    "print(my_set.intersection({3,4,5}))\n",
    "print(my_set.difference({3,4,5}))"
   ]
  },
  {
   "cell_type": "markdown",
   "id": "8198971f",
   "metadata": {},
   "source": [
    "## Examples that are not allowed..."
   ]
  },
  {
   "cell_type": "markdown",
   "id": "52acf4bc",
   "metadata": {},
   "source": [
    "#### Some examples with lists\n",
    "\n",
    "Note that if you run this on Linux or a Mac you will see the following allowed output - but *on Windows there will be no output*.\n",
    "\n",
    "**allowed** found issues:\n",
    "\n",
    "- 5: list.count()\n",
    "- 6: list.extend()\n",
    "- 7: list.remove()\n",
    "- 8: list.index()\n",
    "- 9: list.reverse()\n",
    "- 10: list.clear()"
   ]
  },
  {
   "cell_type": "code",
   "execution_count": 9,
   "id": "42e05d5d",
   "metadata": {
    "scrolled": true
   },
   "outputs": [
    {
     "name": "stdout",
     "output_type": "stream",
     "text": [
      "1\n",
      "0\n"
     ]
    },
    {
     "data": {
      "text/markdown": [
       "**allowed** found issues:\n",
       "\n",
       "- 5: list.count()\n",
       "- 6: list.extend()\n",
       "- 7: list.remove()\n",
       "- 8: list.index()\n",
       "- 9: list.reverse()\n",
       "- 10: list.clear()"
      ]
     },
     "metadata": {},
     "output_type": "display_data"
    }
   ],
   "source": [
    "# List\n",
    "\n",
    "my_list = [1,2,3]\n",
    "\n",
    "print(my_list.count(2))\n",
    "my_list.extend([3,4])\n",
    "my_list.remove(2)\n",
    "print(my_list.index(1))\n",
    "my_list.reverse()\n",
    "my_list.clear()"
   ]
  },
  {
   "cell_type": "markdown",
   "id": "24aab3b1",
   "metadata": {},
   "source": [
    "#### Some examples with strings\n",
    "\n",
    "Note that if you run this on Linux or a Mac you will see the following allowed output - but *on Windows there will be no output*.\n",
    "\n",
    "Remember *no methods are allowed on strings!*\n",
    "\n",
    "**allowed** found issues:\n",
    "\n",
    "- 4: str.upper()\n",
    "- 5: str.find()\n",
    "- 6: str.endswith()\n",
    "- 7: str.isdigit()\n",
    "- 9: str.join()"
   ]
  },
  {
   "cell_type": "code",
   "execution_count": 13,
   "id": "03d9490d",
   "metadata": {},
   "outputs": [
    {
     "name": "stdout",
     "output_type": "stream",
     "text": [
      "HELLO\n",
      "1\n",
      "True\n",
      "False\n",
      "A,B,C\n"
     ]
    },
    {
     "data": {
      "text/markdown": [
       "**allowed** found issues:\n",
       "\n",
       "- 4: str.upper()\n",
       "- 5: str.find()\n",
       "- 6: str.endswith()\n",
       "- 7: str.isdigit()\n",
       "- 9: str.join()"
      ]
     },
     "metadata": {},
     "output_type": "display_data"
    }
   ],
   "source": [
    "### Anything on strings...\n",
    "\n",
    "text = \"Hello\"\n",
    "print(text.upper())\n",
    "print(text.find(\"e\"))\n",
    "print(text.endswith(\"o\"))\n",
    "print(text.isdigit())  \n",
    "sep = \",\"\n",
    "print(sep.join([\"A\",\"B\",\"C\"]))"
   ]
  },
  {
   "cell_type": "markdown",
   "id": "2f71ab5a",
   "metadata": {},
   "source": [
    "### Other stuff that is not allowed\n",
    "\n",
    "In every platform the detection of methods is limited - where the tool cannot detect the type of a variable or where there is an expression then allowed will generate no output.\n",
    "\n",
    "For example, none of the following will produce any `allowed` output:"
   ]
  },
  {
   "cell_type": "code",
   "execution_count": 20,
   "id": "51793dcb",
   "metadata": {},
   "outputs": [
    {
     "name": "stdout",
     "output_type": "stream",
     "text": [
      "0\n",
      "ABC\n",
      "A,B,C\n"
     ]
    }
   ],
   "source": [
    "print([1,2,3].index(1))  # Allowed does not flag forbidden use of index - method on a literal\n",
    "\n",
    "print(\"abc\".upper()) # Another forbidden method on a literal\n",
    "print(\",\".join([\"A\",\"B\",\"C\"])) # Forbidden use of join\n",
    "\n",
    "def test(txt):\n",
    "    return txt.isdigit()  # Missing type hint causes this to be missed\n",
    "\n",
    "def another_test(txt : str):\n",
    "    print(txt[0].upper()) #  Even with a type hint - argument is an expresssion"
   ]
  },
  {
   "cell_type": "markdown",
   "id": "5b09d336",
   "metadata": {},
   "source": [
    "### Writing your own...\n",
    "\n",
    "If you feel stuck without one of these methods, it will always be possible to create your own function that replicates the functionality of the thing you need.\n",
    "\n",
    "For example - here is some `accept`able code that replicates the `upper` method of string (at least in a way that is likely to be adequate for our purposes!).  It would be perfectly acceptable to create something like this and use it in your own solution code.\n",
    "\n",
    "(Btw, let me know if anyone comes up with a less verbose `accept`able solution!)"
   ]
  },
  {
   "cell_type": "code",
   "execution_count": 41,
   "id": "dec5a076",
   "metadata": {
    "scrolled": true
   },
   "outputs": [
    {
     "name": "stdout",
     "output_type": "stream",
     "text": [
      "ABCDEFGHI\n"
     ]
    }
   ],
   "source": [
    "UPPER_DICT = {\n",
    "    \"a\": \"A\",\n",
    "    \"b\": \"B\",\n",
    "    \"c\": \"C\",\n",
    "    \"d\": \"D\",\n",
    "    \"e\": \"E\",\n",
    "    \"f\": \"F\",\n",
    "    \"g\": \"G\",\n",
    "    \"h\": \"H\",\n",
    "    \"i\": \"I\",\n",
    "    \"j\": \"J\",\n",
    "    \"k\": \"K\",\n",
    "    \"l\": \"L\",\n",
    "    \"m\": \"M\",\n",
    "    \"n\": \"N\",\n",
    "    \"o\": \"O\",\n",
    "    \"p\": \"P\",\n",
    "    \"q\": \"Q\",\n",
    "    \"r\": \"R\",\n",
    "    \"s\": \"S\",\n",
    "    \"t\": \"T\",\n",
    "    \"u\": \"U\",\n",
    "    \"v\": \"V\",\n",
    "    \"w\": \"W\",\n",
    "    \"x\": \"X\",\n",
    "    \"y\": \"Y\",\n",
    "    \"z\": \"Z\",\n",
    "}\n",
    "\n",
    "def upper(txt : str) -> str:\n",
    "    \"\"\"Return upper-case copy of input text.\n",
    "\n",
    "    Return a copy of str with any lowercase characters converted to\n",
    "    corresponding upper case characters.\n",
    "    \"\"\"\n",
    "    out = \"\"\n",
    "    for c in txt:\n",
    "        if c in UPPER_DICT:\n",
    "            out += UPPER_DICT[c]\n",
    "        else:\n",
    "            out += c\n",
    "    return out\n",
    "\n",
    "print(upper(\"abcDEFghi\"))"
   ]
  },
  {
   "cell_type": "markdown",
   "id": "d909322b",
   "metadata": {},
   "source": [
    "### In Conclusion...\n",
    "\n",
    "You need to understand which methods you are (and are not) allowed to use.  The tool is not perfect in detecting forbidden code - so you need to check your code carefully.\n",
    "\n",
    "No string methods are allowed - write your own if you need them."
   ]
  }
 ],
 "metadata": {
  "kernelspec": {
   "display_name": "Python 3 (ipykernel)",
   "language": "python",
   "name": "python3"
  },
  "language_info": {
   "codemirror_mode": {
    "name": "ipython",
    "version": 3
   },
   "file_extension": ".py",
   "mimetype": "text/x-python",
   "name": "python",
   "nbconvert_exporter": "python",
   "pygments_lexer": "ipython3",
   "version": "3.11.2"
  }
 },
 "nbformat": 4,
 "nbformat_minor": 5
}
